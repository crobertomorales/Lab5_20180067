{
 "cells": [
  {
   "cell_type": "markdown",
   "id": "instructional-campbell",
   "metadata": {},
   "source": [
    "# Lab 5"
   ]
  },
  {
   "cell_type": "code",
   "execution_count": 1,
   "id": "preceding-alias",
   "metadata": {},
   "outputs": [],
   "source": [
    "import pandas as pd\n",
    "import numpy as np\n",
    "import sklearn\n",
    "from sklearn import model_selection\n",
    "import matplotlib.pyplot as plt"
   ]
  },
  {
   "cell_type": "code",
   "execution_count": 161,
   "id": "determined-daisy",
   "metadata": {},
   "outputs": [
    {
     "data": {
      "text/html": [
       "<div>\n",
       "<style scoped>\n",
       "    .dataframe tbody tr th:only-of-type {\n",
       "        vertical-align: middle;\n",
       "    }\n",
       "\n",
       "    .dataframe tbody tr th {\n",
       "        vertical-align: top;\n",
       "    }\n",
       "\n",
       "    .dataframe thead th {\n",
       "        text-align: right;\n",
       "    }\n",
       "</style>\n",
       "<table border=\"1\" class=\"dataframe\">\n",
       "  <thead>\n",
       "    <tr style=\"text-align: right;\">\n",
       "      <th></th>\n",
       "      <th>0</th>\n",
       "      <th>1</th>\n",
       "      <th>2</th>\n",
       "      <th>3</th>\n",
       "      <th>4</th>\n",
       "      <th>5</th>\n",
       "      <th>6</th>\n",
       "      <th>7</th>\n",
       "      <th>8</th>\n",
       "    </tr>\n",
       "  </thead>\n",
       "  <tbody>\n",
       "    <tr>\n",
       "      <th>1</th>\n",
       "      <td>1.0</td>\n",
       "      <td>337.0</td>\n",
       "      <td>118.0</td>\n",
       "      <td>4.0</td>\n",
       "      <td>4.5</td>\n",
       "      <td>4.5</td>\n",
       "      <td>9.65</td>\n",
       "      <td>1.0</td>\n",
       "      <td>0.92</td>\n",
       "    </tr>\n",
       "    <tr>\n",
       "      <th>2</th>\n",
       "      <td>2.0</td>\n",
       "      <td>324.0</td>\n",
       "      <td>107.0</td>\n",
       "      <td>4.0</td>\n",
       "      <td>4.0</td>\n",
       "      <td>4.5</td>\n",
       "      <td>8.87</td>\n",
       "      <td>1.0</td>\n",
       "      <td>0.76</td>\n",
       "    </tr>\n",
       "    <tr>\n",
       "      <th>3</th>\n",
       "      <td>3.0</td>\n",
       "      <td>316.0</td>\n",
       "      <td>104.0</td>\n",
       "      <td>3.0</td>\n",
       "      <td>3.0</td>\n",
       "      <td>3.5</td>\n",
       "      <td>8.00</td>\n",
       "      <td>1.0</td>\n",
       "      <td>0.72</td>\n",
       "    </tr>\n",
       "    <tr>\n",
       "      <th>4</th>\n",
       "      <td>4.0</td>\n",
       "      <td>322.0</td>\n",
       "      <td>110.0</td>\n",
       "      <td>3.0</td>\n",
       "      <td>3.5</td>\n",
       "      <td>2.5</td>\n",
       "      <td>8.67</td>\n",
       "      <td>1.0</td>\n",
       "      <td>0.80</td>\n",
       "    </tr>\n",
       "    <tr>\n",
       "      <th>5</th>\n",
       "      <td>5.0</td>\n",
       "      <td>314.0</td>\n",
       "      <td>103.0</td>\n",
       "      <td>2.0</td>\n",
       "      <td>2.0</td>\n",
       "      <td>3.0</td>\n",
       "      <td>8.21</td>\n",
       "      <td>0.0</td>\n",
       "      <td>0.65</td>\n",
       "    </tr>\n",
       "  </tbody>\n",
       "</table>\n",
       "</div>"
      ],
      "text/plain": [
       "     0      1      2    3    4    5     6    7     8\n",
       "1  1.0  337.0  118.0  4.0  4.5  4.5  9.65  1.0  0.92\n",
       "2  2.0  324.0  107.0  4.0  4.0  4.5  8.87  1.0  0.76\n",
       "3  3.0  316.0  104.0  3.0  3.0  3.5  8.00  1.0  0.72\n",
       "4  4.0  322.0  110.0  3.0  3.5  2.5  8.67  1.0  0.80\n",
       "5  5.0  314.0  103.0  2.0  2.0  3.0  8.21  0.0  0.65"
      ]
     },
     "execution_count": 161,
     "metadata": {},
     "output_type": "execute_result"
    }
   ],
   "source": [
    "data = pd.read_csv('Admission_Predict.csv', header = None)\n",
    "data = data.drop(0,0)\n",
    "data = data.astype(float)\n",
    "data.head(5)"
   ]
  },
  {
   "cell_type": "code",
   "execution_count": 162,
   "id": "stuffed-honduras",
   "metadata": {},
   "outputs": [
    {
     "name": "stdout",
     "output_type": "stream",
     "text": [
      "(400, 8)\n",
      "(400, 1)\n"
     ]
    }
   ],
   "source": [
    "data = data.assign(v_1 = 1)\n",
    "y = data[[8]].to_numpy()\n",
    "X = data[['v_1',1,2,3,4,5,6,7]].to_numpy()\n",
    "print(X.shape)\n",
    "print(y.shape)"
   ]
  },
  {
   "cell_type": "code",
   "execution_count": 163,
   "id": "worth-toilet",
   "metadata": {},
   "outputs": [
    {
     "name": "stdout",
     "output_type": "stream",
     "text": [
      "(240, 8)\n",
      "(80, 8)\n",
      "(80, 8)\n",
      "(240, 1)\n",
      "(80, 1)\n",
      "(80, 1)\n"
     ]
    }
   ],
   "source": [
    "X_train, X_test, y_train, y_test = sklearn.model_selection.train_test_split(X, y, test_size=0.2, random_state=1)\n",
    "X_train, X_val, y_train, y_val = sklearn.model_selection.train_test_split(X_train, y_train, test_size=0.25, random_state=1)\n",
    "print(X_train.shape)\n",
    "print(X_test.shape)\n",
    "print(X_val.shape)\n",
    "print(y_train.shape)\n",
    "print(y_test.shape)\n",
    "print(y_val.shape)"
   ]
  },
  {
   "cell_type": "code",
   "execution_count": 164,
   "id": "hearing-polymer",
   "metadata": {},
   "outputs": [],
   "source": [
    "def linear_cost(X, y, theta): \n",
    "    h = X @ theta\n",
    "    return ((y-h)**2).sum() / (2 * len(X))\n",
    "\n",
    "def linear_cost_gradient(X, y, theta): \n",
    "    h = X @ theta\n",
    "    return (X.T @ (h-y))/ len(X)"
   ]
  },
  {
   "cell_type": "code",
   "execution_count": 165,
   "id": "removable-length",
   "metadata": {},
   "outputs": [],
   "source": [
    "m, n = X_train.shape"
   ]
  },
  {
   "cell_type": "code",
   "execution_count": 166,
   "id": "charged-rover",
   "metadata": {},
   "outputs": [
    {
     "name": "stdout",
     "output_type": "stream",
     "text": [
      "(8, 1)\n"
     ]
    }
   ],
   "source": [
    "theta_0 = np.random.rand(n,1)\n",
    "print(theta_0.shape)"
   ]
  },
  {
   "cell_type": "code",
   "execution_count": 167,
   "id": "split-leadership",
   "metadata": {},
   "outputs": [],
   "source": [
    "def gradient_descent(\n",
    "X,y,theta_0,linear_cost,linear_cost_gradient,\n",
    "    learning_rate = 0.000000001, threshold = 0.00001, max_iter=10000):\n",
    "    thetas = theta_0\n",
    "    iteration = 0 \n",
    "    costs = []\n",
    "    \n",
    "    while np.linalg.norm(linear_cost_gradient(X,y,thetas)) > threshold and iteration < max_iter:\n",
    "        iteration += 1 \n",
    "        thetas = thetas - (learning_rate * linear_cost_gradient(X,y,thetas))\n",
    "        costs.append(linear_cost(X,y,thetas))\n",
    "        \n",
    "    return thetas, costs"
   ]
  },
  {
   "cell_type": "markdown",
   "id": "difficult-montana",
   "metadata": {},
   "source": [
    "## Grado 1"
   ]
  },
  {
   "cell_type": "code",
   "execution_count": 168,
   "id": "narrative-sessions",
   "metadata": {},
   "outputs": [],
   "source": [
    "thetas, costs = gradient_descent(X_train,y_train,theta_0,linear_cost,linear_cost_gradient)"
   ]
  },
  {
   "cell_type": "code",
   "execution_count": 169,
   "id": "crude-yield",
   "metadata": {},
   "outputs": [
    {
     "data": {
      "text/plain": [
       "[<matplotlib.lines.Line2D at 0x2c9b48dcc40>]"
      ]
     },
     "execution_count": 169,
     "metadata": {},
     "output_type": "execute_result"
    },
    {
     "data": {
      "image/png": "[encoded data removed]",
      "text/plain": [
       "<Figure size 432x288 with 1 Axes>"
      ]
     },
     "metadata": {
      "needs_background": "light"
     },
     "output_type": "display_data"
    }
   ],
   "source": [
    "plt.plot(costs)"
   ]
  },
  {
   "cell_type": "markdown",
   "id": "representative-louis",
   "metadata": {},
   "source": [
    "### test"
   ]
  },
  {
   "cell_type": "code",
   "execution_count": 170,
   "id": "precious-silly",
   "metadata": {},
   "outputs": [],
   "source": [
    "thetas, costs = gradient_descent(X_test,y_test,theta_0,linear_cost,linear_cost_gradient)"
   ]
  },
  {
   "cell_type": "code",
   "execution_count": 171,
   "id": "novel-translation",
   "metadata": {},
   "outputs": [
    {
     "data": {
      "text/plain": [
       "[<matplotlib.lines.Line2D at 0x2c9b496bdf0>]"
      ]
     },
     "execution_count": 171,
     "metadata": {},
     "output_type": "execute_result"
    },
    {
     "data": {
      "image/png": "[encoded data removed]",
      "text/plain": [
       "<Figure size 432x288 with 1 Axes>"
      ]
     },
     "metadata": {
      "needs_background": "light"
     },
     "output_type": "display_data"
    }
   ],
   "source": [
    "plt.plot(costs)"
   ]
  },
  {
   "cell_type": "markdown",
   "id": "continuing-pendant",
   "metadata": {},
   "source": [
    "### validation"
   ]
  },
  {
   "cell_type": "code",
   "execution_count": 172,
   "id": "answering-reference",
   "metadata": {},
   "outputs": [],
   "source": [
    "thetas, costs = gradient_descent(X_val,y_val,theta_0,linear_cost,linear_cost_gradient)"
   ]
  },
  {
   "cell_type": "code",
   "execution_count": 173,
   "id": "intensive-species",
   "metadata": {},
   "outputs": [
    {
     "data": {
      "text/plain": [
       "[<matplotlib.lines.Line2D at 0x2c9b4929dc0>]"
      ]
     },
     "execution_count": 173,
     "metadata": {},
     "output_type": "execute_result"
    },
    {
     "data": {
      "image/png": "[encoded data removed]",
      "text/plain": [
       "<Figure size 432x288 with 1 Axes>"
      ]
     },
     "metadata": {
      "needs_background": "light"
     },
     "output_type": "display_data"
    }
   ],
   "source": [
    "plt.plot(costs)"
   ]
  },
  {
   "cell_type": "markdown",
   "id": "armed-airline",
   "metadata": {},
   "source": [
    "Como se observa en las gráficas, utilizando un polinomio grado 1 el modelo muestra un descenso, pero con 10,000 iteraciones no parece alcanzar convergencia esperada. "
   ]
  },
  {
   "cell_type": "markdown",
   "id": "ancient-radiation",
   "metadata": {
    "tags": []
   },
   "source": [
    "## Grado 2"
   ]
  },
  {
   "cell_type": "code",
   "execution_count": 174,
   "id": "bulgarian-stick",
   "metadata": {},
   "outputs": [
    {
     "data": {
      "text/html": [
       "<div>\n",
       "<style scoped>\n",
       "    .dataframe tbody tr th:only-of-type {\n",
       "        vertical-align: middle;\n",
       "    }\n",
       "\n",
       "    .dataframe tbody tr th {\n",
       "        vertical-align: top;\n",
       "    }\n",
       "\n",
       "    .dataframe thead th {\n",
       "        text-align: right;\n",
       "    }\n",
       "</style>\n",
       "<table border=\"1\" class=\"dataframe\">\n",
       "  <thead>\n",
       "    <tr style=\"text-align: right;\">\n",
       "      <th></th>\n",
       "      <th>0</th>\n",
       "      <th>1</th>\n",
       "      <th>2</th>\n",
       "      <th>3</th>\n",
       "      <th>4</th>\n",
       "      <th>5</th>\n",
       "      <th>6</th>\n",
       "      <th>7</th>\n",
       "      <th>8</th>\n",
       "      <th>v_1</th>\n",
       "      <th>9</th>\n",
       "      <th>10</th>\n",
       "      <th>11</th>\n",
       "      <th>12</th>\n",
       "      <th>13</th>\n",
       "      <th>14</th>\n",
       "      <th>15</th>\n",
       "    </tr>\n",
       "  </thead>\n",
       "  <tbody>\n",
       "    <tr>\n",
       "      <th>1</th>\n",
       "      <td>1.0</td>\n",
       "      <td>337.0</td>\n",
       "      <td>118.0</td>\n",
       "      <td>4.0</td>\n",
       "      <td>4.5</td>\n",
       "      <td>4.5</td>\n",
       "      <td>9.65</td>\n",
       "      <td>1.0</td>\n",
       "      <td>0.92</td>\n",
       "      <td>1</td>\n",
       "      <td>113569.0</td>\n",
       "      <td>13924.0</td>\n",
       "      <td>16.0</td>\n",
       "      <td>20.25</td>\n",
       "      <td>20.25</td>\n",
       "      <td>93.1225</td>\n",
       "      <td>1.0</td>\n",
       "    </tr>\n",
       "    <tr>\n",
       "      <th>2</th>\n",
       "      <td>2.0</td>\n",
       "      <td>324.0</td>\n",
       "      <td>107.0</td>\n",
       "      <td>4.0</td>\n",
       "      <td>4.0</td>\n",
       "      <td>4.5</td>\n",
       "      <td>8.87</td>\n",
       "      <td>1.0</td>\n",
       "      <td>0.76</td>\n",
       "      <td>1</td>\n",
       "      <td>104976.0</td>\n",
       "      <td>11449.0</td>\n",
       "      <td>16.0</td>\n",
       "      <td>16.00</td>\n",
       "      <td>20.25</td>\n",
       "      <td>78.6769</td>\n",
       "      <td>1.0</td>\n",
       "    </tr>\n",
       "    <tr>\n",
       "      <th>3</th>\n",
       "      <td>3.0</td>\n",
       "      <td>316.0</td>\n",
       "      <td>104.0</td>\n",
       "      <td>3.0</td>\n",
       "      <td>3.0</td>\n",
       "      <td>3.5</td>\n",
       "      <td>8.00</td>\n",
       "      <td>1.0</td>\n",
       "      <td>0.72</td>\n",
       "      <td>1</td>\n",
       "      <td>99856.0</td>\n",
       "      <td>10816.0</td>\n",
       "      <td>9.0</td>\n",
       "      <td>9.00</td>\n",
       "      <td>12.25</td>\n",
       "      <td>64.0000</td>\n",
       "      <td>1.0</td>\n",
       "    </tr>\n",
       "    <tr>\n",
       "      <th>4</th>\n",
       "      <td>4.0</td>\n",
       "      <td>322.0</td>\n",
       "      <td>110.0</td>\n",
       "      <td>3.0</td>\n",
       "      <td>3.5</td>\n",
       "      <td>2.5</td>\n",
       "      <td>8.67</td>\n",
       "      <td>1.0</td>\n",
       "      <td>0.80</td>\n",
       "      <td>1</td>\n",
       "      <td>103684.0</td>\n",
       "      <td>12100.0</td>\n",
       "      <td>9.0</td>\n",
       "      <td>12.25</td>\n",
       "      <td>6.25</td>\n",
       "      <td>75.1689</td>\n",
       "      <td>1.0</td>\n",
       "    </tr>\n",
       "    <tr>\n",
       "      <th>5</th>\n",
       "      <td>5.0</td>\n",
       "      <td>314.0</td>\n",
       "      <td>103.0</td>\n",
       "      <td>2.0</td>\n",
       "      <td>2.0</td>\n",
       "      <td>3.0</td>\n",
       "      <td>8.21</td>\n",
       "      <td>0.0</td>\n",
       "      <td>0.65</td>\n",
       "      <td>1</td>\n",
       "      <td>98596.0</td>\n",
       "      <td>10609.0</td>\n",
       "      <td>4.0</td>\n",
       "      <td>4.00</td>\n",
       "      <td>9.00</td>\n",
       "      <td>67.4041</td>\n",
       "      <td>0.0</td>\n",
       "    </tr>\n",
       "    <tr>\n",
       "      <th>...</th>\n",
       "      <td>...</td>\n",
       "      <td>...</td>\n",
       "      <td>...</td>\n",
       "      <td>...</td>\n",
       "      <td>...</td>\n",
       "      <td>...</td>\n",
       "      <td>...</td>\n",
       "      <td>...</td>\n",
       "      <td>...</td>\n",
       "      <td>...</td>\n",
       "      <td>...</td>\n",
       "      <td>...</td>\n",
       "      <td>...</td>\n",
       "      <td>...</td>\n",
       "      <td>...</td>\n",
       "      <td>...</td>\n",
       "      <td>...</td>\n",
       "    </tr>\n",
       "    <tr>\n",
       "      <th>396</th>\n",
       "      <td>396.0</td>\n",
       "      <td>324.0</td>\n",
       "      <td>110.0</td>\n",
       "      <td>3.0</td>\n",
       "      <td>3.5</td>\n",
       "      <td>3.5</td>\n",
       "      <td>9.04</td>\n",
       "      <td>1.0</td>\n",
       "      <td>0.82</td>\n",
       "      <td>1</td>\n",
       "      <td>104976.0</td>\n",
       "      <td>12100.0</td>\n",
       "      <td>9.0</td>\n",
       "      <td>12.25</td>\n",
       "      <td>12.25</td>\n",
       "      <td>81.7216</td>\n",
       "      <td>1.0</td>\n",
       "    </tr>\n",
       "    <tr>\n",
       "      <th>397</th>\n",
       "      <td>397.0</td>\n",
       "      <td>325.0</td>\n",
       "      <td>107.0</td>\n",
       "      <td>3.0</td>\n",
       "      <td>3.0</td>\n",
       "      <td>3.5</td>\n",
       "      <td>9.11</td>\n",
       "      <td>1.0</td>\n",
       "      <td>0.84</td>\n",
       "      <td>1</td>\n",
       "      <td>105625.0</td>\n",
       "      <td>11449.0</td>\n",
       "      <td>9.0</td>\n",
       "      <td>9.00</td>\n",
       "      <td>12.25</td>\n",
       "      <td>82.9921</td>\n",
       "      <td>1.0</td>\n",
       "    </tr>\n",
       "    <tr>\n",
       "      <th>398</th>\n",
       "      <td>398.0</td>\n",
       "      <td>330.0</td>\n",
       "      <td>116.0</td>\n",
       "      <td>4.0</td>\n",
       "      <td>5.0</td>\n",
       "      <td>4.5</td>\n",
       "      <td>9.45</td>\n",
       "      <td>1.0</td>\n",
       "      <td>0.91</td>\n",
       "      <td>1</td>\n",
       "      <td>108900.0</td>\n",
       "      <td>13456.0</td>\n",
       "      <td>16.0</td>\n",
       "      <td>25.00</td>\n",
       "      <td>20.25</td>\n",
       "      <td>89.3025</td>\n",
       "      <td>1.0</td>\n",
       "    </tr>\n",
       "    <tr>\n",
       "      <th>399</th>\n",
       "      <td>399.0</td>\n",
       "      <td>312.0</td>\n",
       "      <td>103.0</td>\n",
       "      <td>3.0</td>\n",
       "      <td>3.5</td>\n",
       "      <td>4.0</td>\n",
       "      <td>8.78</td>\n",
       "      <td>0.0</td>\n",
       "      <td>0.67</td>\n",
       "      <td>1</td>\n",
       "      <td>97344.0</td>\n",
       "      <td>10609.0</td>\n",
       "      <td>9.0</td>\n",
       "      <td>12.25</td>\n",
       "      <td>16.00</td>\n",
       "      <td>77.0884</td>\n",
       "      <td>0.0</td>\n",
       "    </tr>\n",
       "    <tr>\n",
       "      <th>400</th>\n",
       "      <td>400.0</td>\n",
       "      <td>333.0</td>\n",
       "      <td>117.0</td>\n",
       "      <td>4.0</td>\n",
       "      <td>5.0</td>\n",
       "      <td>4.0</td>\n",
       "      <td>9.66</td>\n",
       "      <td>1.0</td>\n",
       "      <td>0.95</td>\n",
       "      <td>1</td>\n",
       "      <td>110889.0</td>\n",
       "      <td>13689.0</td>\n",
       "      <td>16.0</td>\n",
       "      <td>25.00</td>\n",
       "      <td>16.00</td>\n",
       "      <td>93.3156</td>\n",
       "      <td>1.0</td>\n",
       "    </tr>\n",
       "  </tbody>\n",
       "</table>\n",
       "<p>400 rows × 17 columns</p>\n",
       "</div>"
      ],
      "text/plain": [
       "         0      1      2    3    4    5     6    7     8  v_1         9  \\\n",
       "1      1.0  337.0  118.0  4.0  4.5  4.5  9.65  1.0  0.92    1  113569.0   \n",
       "2      2.0  324.0  107.0  4.0  4.0  4.5  8.87  1.0  0.76    1  104976.0   \n",
       "3      3.0  316.0  104.0  3.0  3.0  3.5  8.00  1.0  0.72    1   99856.0   \n",
       "4      4.0  322.0  110.0  3.0  3.5  2.5  8.67  1.0  0.80    1  103684.0   \n",
       "5      5.0  314.0  103.0  2.0  2.0  3.0  8.21  0.0  0.65    1   98596.0   \n",
       "..     ...    ...    ...  ...  ...  ...   ...  ...   ...  ...       ...   \n",
       "396  396.0  324.0  110.0  3.0  3.5  3.5  9.04  1.0  0.82    1  104976.0   \n",
       "397  397.0  325.0  107.0  3.0  3.0  3.5  9.11  1.0  0.84    1  105625.0   \n",
       "398  398.0  330.0  116.0  4.0  5.0  4.5  9.45  1.0  0.91    1  108900.0   \n",
       "399  399.0  312.0  103.0  3.0  3.5  4.0  8.78  0.0  0.67    1   97344.0   \n",
       "400  400.0  333.0  117.0  4.0  5.0  4.0  9.66  1.0  0.95    1  110889.0   \n",
       "\n",
       "          10    11     12     13       14   15  \n",
       "1    13924.0  16.0  20.25  20.25  93.1225  1.0  \n",
       "2    11449.0  16.0  16.00  20.25  78.6769  1.0  \n",
       "3    10816.0   9.0   9.00  12.25  64.0000  1.0  \n",
       "4    12100.0   9.0  12.25   6.25  75.1689  1.0  \n",
       "5    10609.0   4.0   4.00   9.00  67.4041  0.0  \n",
       "..       ...   ...    ...    ...      ...  ...  \n",
       "396  12100.0   9.0  12.25  12.25  81.7216  1.0  \n",
       "397  11449.0   9.0   9.00  12.25  82.9921  1.0  \n",
       "398  13456.0  16.0  25.00  20.25  89.3025  1.0  \n",
       "399  10609.0   9.0  12.25  16.00  77.0884  0.0  \n",
       "400  13689.0  16.0  25.00  16.00  93.3156  1.0  \n",
       "\n",
       "[400 rows x 17 columns]"
      ]
     },
     "execution_count": 174,
     "metadata": {},
     "output_type": "execute_result"
    }
   ],
   "source": [
    "data[9] = data[1] ** 2\n",
    "data[10] = data[2] ** 2\n",
    "data[11] = data[3] ** 2\n",
    "data[12] = data[4] ** 2\n",
    "data[13] = data[5] ** 2\n",
    "data[14] = data[6] ** 2\n",
    "data[15] = data[7] ** 2\n",
    "data"
   ]
  },
  {
   "cell_type": "code",
   "execution_count": 175,
   "id": "lined-consideration",
   "metadata": {},
   "outputs": [
    {
     "name": "stdout",
     "output_type": "stream",
     "text": [
      "(400, 1)\n",
      "(400, 13)\n"
     ]
    }
   ],
   "source": [
    "data = data.assign(v_1 = 1)\n",
    "y = data[[8]].to_numpy()\n",
    "X = data[['v_1',1,4,5,6,7,9,10,11,12,13,14,15]].to_numpy()\n",
    "print(y.shape)\n",
    "print(X.shape)"
   ]
  },
  {
   "cell_type": "code",
   "execution_count": 176,
   "id": "capital-finish",
   "metadata": {},
   "outputs": [
    {
     "name": "stdout",
     "output_type": "stream",
     "text": [
      "(240, 13)\n",
      "(80, 13)\n",
      "(80, 13)\n",
      "(240, 1)\n",
      "(80, 1)\n",
      "(80, 1)\n"
     ]
    }
   ],
   "source": [
    "X_train, X_test, y_train, y_test = sklearn.model_selection.train_test_split(X, y, test_size=0.2, random_state=1)\n",
    "X_train, X_val, y_train, y_val = sklearn.model_selection.train_test_split(X_train, y_train, test_size=0.25, random_state=1)\n",
    "print(X_train.shape)\n",
    "print(X_test.shape)\n",
    "print(X_val.shape)\n",
    "print(y_train.shape)\n",
    "print(y_test.shape)\n",
    "print(y_val.shape)"
   ]
  },
  {
   "cell_type": "code",
   "execution_count": 177,
   "id": "chronic-incentive",
   "metadata": {},
   "outputs": [],
   "source": [
    "def linear_cost(X, y, theta): \n",
    "    h = X @ theta\n",
    "    return ((y-h)**2).sum() / (2 * len(X))\n",
    "\n",
    "def linear_cost_gradient(X, y, theta): \n",
    "    h = X @ theta\n",
    "    return (X.T @ (h-y))/ len(X)"
   ]
  },
  {
   "cell_type": "code",
   "execution_count": 178,
   "id": "controlling-assumption",
   "metadata": {},
   "outputs": [],
   "source": [
    "m, n = X_train.shape"
   ]
  },
  {
   "cell_type": "code",
   "execution_count": 179,
   "id": "finished-allocation",
   "metadata": {},
   "outputs": [
    {
     "name": "stdout",
     "output_type": "stream",
     "text": [
      "(13, 1)\n"
     ]
    }
   ],
   "source": [
    "theta_0 = np.random.rand(n,1)\n",
    "print(theta_0.shape)"
   ]
  },
  {
   "cell_type": "code",
   "execution_count": 180,
   "id": "specialized-progress",
   "metadata": {},
   "outputs": [],
   "source": [
    "def gradient_descent(\n",
    "X,y,theta_0,linear_cost,linear_cost_gradient,\n",
    "    learning_rate = 0.00000000000000001, threshold = 0.000000001, max_iter=10000):\n",
    "    thetas = theta_0\n",
    "    iteration = 0 \n",
    "    costs = []\n",
    "    \n",
    "    while np.linalg.norm(linear_cost_gradient(X,y,thetas)) > threshold and iteration < max_iter:\n",
    "        iteration += 1 \n",
    "        thetas = thetas - (learning_rate * linear_cost_gradient(X,y,thetas))\n",
    "        costs.append(linear_cost(X,y,thetas))\n",
    "        \n",
    "    return thetas, costs"
   ]
  },
  {
   "cell_type": "code",
   "execution_count": 181,
   "id": "proud-despite",
   "metadata": {},
   "outputs": [],
   "source": [
    "thetas, costs = gradient_descent(X_train,y_train,theta_0,linear_cost,linear_cost_gradient)"
   ]
  },
  {
   "cell_type": "code",
   "execution_count": 182,
   "id": "daily-sessions",
   "metadata": {},
   "outputs": [
    {
     "data": {
      "text/plain": [
       "[<matplotlib.lines.Line2D at 0x2c9b376c490>]"
      ]
     },
     "execution_count": 182,
     "metadata": {},
     "output_type": "execute_result"
    },
    {
     "data": {
      "image/png": "[encoded data removed]",
      "text/plain": [
       "<Figure size 432x288 with 1 Axes>"
      ]
     },
     "metadata": {
      "needs_background": "light"
     },
     "output_type": "display_data"
    }
   ],
   "source": [
    "plt.plot(costs)"
   ]
  },
  {
   "cell_type": "markdown",
   "id": "super-grounds",
   "metadata": {},
   "source": [
    "### test"
   ]
  },
  {
   "cell_type": "code",
   "execution_count": 183,
   "id": "neutral-copper",
   "metadata": {},
   "outputs": [],
   "source": [
    "thetas, costs = gradient_descent(X_test,y_test,theta_0,linear_cost,linear_cost_gradient)"
   ]
  },
  {
   "cell_type": "code",
   "execution_count": 184,
   "id": "wound-springfield",
   "metadata": {},
   "outputs": [
    {
     "data": {
      "text/plain": [
       "[<matplotlib.lines.Line2D at 0x2c9b5a3aa60>]"
      ]
     },
     "execution_count": 184,
     "metadata": {},
     "output_type": "execute_result"
    },
    {
     "data": {
      "image/png": "[encoded data removed]",
      "text/plain": [
       "<Figure size 432x288 with 1 Axes>"
      ]
     },
     "metadata": {
      "needs_background": "light"
     },
     "output_type": "display_data"
    }
   ],
   "source": [
    "plt.plot(costs)"
   ]
  },
  {
   "cell_type": "markdown",
   "id": "graduate-reproduction",
   "metadata": {},
   "source": [
    "### validation"
   ]
  },
  {
   "cell_type": "code",
   "execution_count": 185,
   "id": "convinced-crystal",
   "metadata": {},
   "outputs": [],
   "source": [
    "thetas, costs = gradient_descent(X_val,y_val,theta_0,linear_cost,linear_cost_gradient)"
   ]
  },
  {
   "cell_type": "code",
   "execution_count": 186,
   "id": "thermal-enough",
   "metadata": {},
   "outputs": [
    {
     "data": {
      "text/plain": [
       "[<matplotlib.lines.Line2D at 0x2c9b5aa4040>]"
      ]
     },
     "execution_count": 186,
     "metadata": {},
     "output_type": "execute_result"
    },
    {
     "data": {
      "image/png": "[encoded data removed]",
      "text/plain": [
       "<Figure size 432x288 with 1 Axes>"
      ]
     },
     "metadata": {
      "needs_background": "light"
     },
     "output_type": "display_data"
    }
   ],
   "source": [
    "plt.plot(costs)"
   ]
  },
  {
   "cell_type": "markdown",
   "id": "hungry-september",
   "metadata": {},
   "source": [
    "Como se observa en las gráficas, utilizando un polinomio grado 2 el modelo muestra un descenso más recto que en el grado 1, lo cual refleja que estamos más lejos de la convergencia en este modelo tampoco llegamos a ver convergencia con 10,000 iteraciones.\n"
   ]
  },
  {
   "cell_type": "markdown",
   "id": "excited-europe",
   "metadata": {
    "tags": []
   },
   "source": [
    "## Grado 3"
   ]
  },
  {
   "cell_type": "code",
   "execution_count": 187,
   "id": "stupid-agriculture",
   "metadata": {},
   "outputs": [
    {
     "data": {
      "text/html": [
       "<div>\n",
       "<style scoped>\n",
       "    .dataframe tbody tr th:only-of-type {\n",
       "        vertical-align: middle;\n",
       "    }\n",
       "\n",
       "    .dataframe tbody tr th {\n",
       "        vertical-align: top;\n",
       "    }\n",
       "\n",
       "    .dataframe thead th {\n",
       "        text-align: right;\n",
       "    }\n",
       "</style>\n",
       "<table border=\"1\" class=\"dataframe\">\n",
       "  <thead>\n",
       "    <tr style=\"text-align: right;\">\n",
       "      <th></th>\n",
       "      <th>0</th>\n",
       "      <th>1</th>\n",
       "      <th>2</th>\n",
       "      <th>3</th>\n",
       "      <th>4</th>\n",
       "      <th>5</th>\n",
       "      <th>6</th>\n",
       "      <th>7</th>\n",
       "      <th>8</th>\n",
       "      <th>v_1</th>\n",
       "      <th>...</th>\n",
       "      <th>13</th>\n",
       "      <th>14</th>\n",
       "      <th>15</th>\n",
       "      <th>16</th>\n",
       "      <th>17</th>\n",
       "      <th>18</th>\n",
       "      <th>19</th>\n",
       "      <th>20</th>\n",
       "      <th>21</th>\n",
       "      <th>22</th>\n",
       "    </tr>\n",
       "  </thead>\n",
       "  <tbody>\n",
       "    <tr>\n",
       "      <th>1</th>\n",
       "      <td>1.0</td>\n",
       "      <td>337.0</td>\n",
       "      <td>118.0</td>\n",
       "      <td>4.0</td>\n",
       "      <td>4.5</td>\n",
       "      <td>4.5</td>\n",
       "      <td>9.65</td>\n",
       "      <td>1.0</td>\n",
       "      <td>0.92</td>\n",
       "      <td>1</td>\n",
       "      <td>...</td>\n",
       "      <td>20.25</td>\n",
       "      <td>93.1225</td>\n",
       "      <td>1.0</td>\n",
       "      <td>38272753.0</td>\n",
       "      <td>1643032.0</td>\n",
       "      <td>64.0</td>\n",
       "      <td>91.125</td>\n",
       "      <td>91.125</td>\n",
       "      <td>898.632125</td>\n",
       "      <td>1.0</td>\n",
       "    </tr>\n",
       "    <tr>\n",
       "      <th>2</th>\n",
       "      <td>2.0</td>\n",
       "      <td>324.0</td>\n",
       "      <td>107.0</td>\n",
       "      <td>4.0</td>\n",
       "      <td>4.0</td>\n",
       "      <td>4.5</td>\n",
       "      <td>8.87</td>\n",
       "      <td>1.0</td>\n",
       "      <td>0.76</td>\n",
       "      <td>1</td>\n",
       "      <td>...</td>\n",
       "      <td>20.25</td>\n",
       "      <td>78.6769</td>\n",
       "      <td>1.0</td>\n",
       "      <td>34012224.0</td>\n",
       "      <td>1225043.0</td>\n",
       "      <td>64.0</td>\n",
       "      <td>64.000</td>\n",
       "      <td>91.125</td>\n",
       "      <td>697.864103</td>\n",
       "      <td>1.0</td>\n",
       "    </tr>\n",
       "    <tr>\n",
       "      <th>3</th>\n",
       "      <td>3.0</td>\n",
       "      <td>316.0</td>\n",
       "      <td>104.0</td>\n",
       "      <td>3.0</td>\n",
       "      <td>3.0</td>\n",
       "      <td>3.5</td>\n",
       "      <td>8.00</td>\n",
       "      <td>1.0</td>\n",
       "      <td>0.72</td>\n",
       "      <td>1</td>\n",
       "      <td>...</td>\n",
       "      <td>12.25</td>\n",
       "      <td>64.0000</td>\n",
       "      <td>1.0</td>\n",
       "      <td>31554496.0</td>\n",
       "      <td>1124864.0</td>\n",
       "      <td>27.0</td>\n",
       "      <td>27.000</td>\n",
       "      <td>42.875</td>\n",
       "      <td>512.000000</td>\n",
       "      <td>1.0</td>\n",
       "    </tr>\n",
       "    <tr>\n",
       "      <th>4</th>\n",
       "      <td>4.0</td>\n",
       "      <td>322.0</td>\n",
       "      <td>110.0</td>\n",
       "      <td>3.0</td>\n",
       "      <td>3.5</td>\n",
       "      <td>2.5</td>\n",
       "      <td>8.67</td>\n",
       "      <td>1.0</td>\n",
       "      <td>0.80</td>\n",
       "      <td>1</td>\n",
       "      <td>...</td>\n",
       "      <td>6.25</td>\n",
       "      <td>75.1689</td>\n",
       "      <td>1.0</td>\n",
       "      <td>33386248.0</td>\n",
       "      <td>1331000.0</td>\n",
       "      <td>27.0</td>\n",
       "      <td>42.875</td>\n",
       "      <td>15.625</td>\n",
       "      <td>651.714363</td>\n",
       "      <td>1.0</td>\n",
       "    </tr>\n",
       "    <tr>\n",
       "      <th>5</th>\n",
       "      <td>5.0</td>\n",
       "      <td>314.0</td>\n",
       "      <td>103.0</td>\n",
       "      <td>2.0</td>\n",
       "      <td>2.0</td>\n",
       "      <td>3.0</td>\n",
       "      <td>8.21</td>\n",
       "      <td>0.0</td>\n",
       "      <td>0.65</td>\n",
       "      <td>1</td>\n",
       "      <td>...</td>\n",
       "      <td>9.00</td>\n",
       "      <td>67.4041</td>\n",
       "      <td>0.0</td>\n",
       "      <td>30959144.0</td>\n",
       "      <td>1092727.0</td>\n",
       "      <td>8.0</td>\n",
       "      <td>8.000</td>\n",
       "      <td>27.000</td>\n",
       "      <td>553.387661</td>\n",
       "      <td>0.0</td>\n",
       "    </tr>\n",
       "    <tr>\n",
       "      <th>...</th>\n",
       "      <td>...</td>\n",
       "      <td>...</td>\n",
       "      <td>...</td>\n",
       "      <td>...</td>\n",
       "      <td>...</td>\n",
       "      <td>...</td>\n",
       "      <td>...</td>\n",
       "      <td>...</td>\n",
       "      <td>...</td>\n",
       "      <td>...</td>\n",
       "      <td>...</td>\n",
       "      <td>...</td>\n",
       "      <td>...</td>\n",
       "      <td>...</td>\n",
       "      <td>...</td>\n",
       "      <td>...</td>\n",
       "      <td>...</td>\n",
       "      <td>...</td>\n",
       "      <td>...</td>\n",
       "      <td>...</td>\n",
       "      <td>...</td>\n",
       "    </tr>\n",
       "    <tr>\n",
       "      <th>396</th>\n",
       "      <td>396.0</td>\n",
       "      <td>324.0</td>\n",
       "      <td>110.0</td>\n",
       "      <td>3.0</td>\n",
       "      <td>3.5</td>\n",
       "      <td>3.5</td>\n",
       "      <td>9.04</td>\n",
       "      <td>1.0</td>\n",
       "      <td>0.82</td>\n",
       "      <td>1</td>\n",
       "      <td>...</td>\n",
       "      <td>12.25</td>\n",
       "      <td>81.7216</td>\n",
       "      <td>1.0</td>\n",
       "      <td>34012224.0</td>\n",
       "      <td>1331000.0</td>\n",
       "      <td>27.0</td>\n",
       "      <td>42.875</td>\n",
       "      <td>42.875</td>\n",
       "      <td>738.763264</td>\n",
       "      <td>1.0</td>\n",
       "    </tr>\n",
       "    <tr>\n",
       "      <th>397</th>\n",
       "      <td>397.0</td>\n",
       "      <td>325.0</td>\n",
       "      <td>107.0</td>\n",
       "      <td>3.0</td>\n",
       "      <td>3.0</td>\n",
       "      <td>3.5</td>\n",
       "      <td>9.11</td>\n",
       "      <td>1.0</td>\n",
       "      <td>0.84</td>\n",
       "      <td>1</td>\n",
       "      <td>...</td>\n",
       "      <td>12.25</td>\n",
       "      <td>82.9921</td>\n",
       "      <td>1.0</td>\n",
       "      <td>34328125.0</td>\n",
       "      <td>1225043.0</td>\n",
       "      <td>27.0</td>\n",
       "      <td>27.000</td>\n",
       "      <td>42.875</td>\n",
       "      <td>756.058031</td>\n",
       "      <td>1.0</td>\n",
       "    </tr>\n",
       "    <tr>\n",
       "      <th>398</th>\n",
       "      <td>398.0</td>\n",
       "      <td>330.0</td>\n",
       "      <td>116.0</td>\n",
       "      <td>4.0</td>\n",
       "      <td>5.0</td>\n",
       "      <td>4.5</td>\n",
       "      <td>9.45</td>\n",
       "      <td>1.0</td>\n",
       "      <td>0.91</td>\n",
       "      <td>1</td>\n",
       "      <td>...</td>\n",
       "      <td>20.25</td>\n",
       "      <td>89.3025</td>\n",
       "      <td>1.0</td>\n",
       "      <td>35937000.0</td>\n",
       "      <td>1560896.0</td>\n",
       "      <td>64.0</td>\n",
       "      <td>125.000</td>\n",
       "      <td>91.125</td>\n",
       "      <td>843.908625</td>\n",
       "      <td>1.0</td>\n",
       "    </tr>\n",
       "    <tr>\n",
       "      <th>399</th>\n",
       "      <td>399.0</td>\n",
       "      <td>312.0</td>\n",
       "      <td>103.0</td>\n",
       "      <td>3.0</td>\n",
       "      <td>3.5</td>\n",
       "      <td>4.0</td>\n",
       "      <td>8.78</td>\n",
       "      <td>0.0</td>\n",
       "      <td>0.67</td>\n",
       "      <td>1</td>\n",
       "      <td>...</td>\n",
       "      <td>16.00</td>\n",
       "      <td>77.0884</td>\n",
       "      <td>0.0</td>\n",
       "      <td>30371328.0</td>\n",
       "      <td>1092727.0</td>\n",
       "      <td>27.0</td>\n",
       "      <td>42.875</td>\n",
       "      <td>64.000</td>\n",
       "      <td>676.836152</td>\n",
       "      <td>0.0</td>\n",
       "    </tr>\n",
       "    <tr>\n",
       "      <th>400</th>\n",
       "      <td>400.0</td>\n",
       "      <td>333.0</td>\n",
       "      <td>117.0</td>\n",
       "      <td>4.0</td>\n",
       "      <td>5.0</td>\n",
       "      <td>4.0</td>\n",
       "      <td>9.66</td>\n",
       "      <td>1.0</td>\n",
       "      <td>0.95</td>\n",
       "      <td>1</td>\n",
       "      <td>...</td>\n",
       "      <td>16.00</td>\n",
       "      <td>93.3156</td>\n",
       "      <td>1.0</td>\n",
       "      <td>36926037.0</td>\n",
       "      <td>1601613.0</td>\n",
       "      <td>64.0</td>\n",
       "      <td>125.000</td>\n",
       "      <td>64.000</td>\n",
       "      <td>901.428696</td>\n",
       "      <td>1.0</td>\n",
       "    </tr>\n",
       "  </tbody>\n",
       "</table>\n",
       "<p>400 rows × 24 columns</p>\n",
       "</div>"
      ],
      "text/plain": [
       "         0      1      2    3    4    5     6    7     8  v_1  ...     13  \\\n",
       "1      1.0  337.0  118.0  4.0  4.5  4.5  9.65  1.0  0.92    1  ...  20.25   \n",
       "2      2.0  324.0  107.0  4.0  4.0  4.5  8.87  1.0  0.76    1  ...  20.25   \n",
       "3      3.0  316.0  104.0  3.0  3.0  3.5  8.00  1.0  0.72    1  ...  12.25   \n",
       "4      4.0  322.0  110.0  3.0  3.5  2.5  8.67  1.0  0.80    1  ...   6.25   \n",
       "5      5.0  314.0  103.0  2.0  2.0  3.0  8.21  0.0  0.65    1  ...   9.00   \n",
       "..     ...    ...    ...  ...  ...  ...   ...  ...   ...  ...  ...    ...   \n",
       "396  396.0  324.0  110.0  3.0  3.5  3.5  9.04  1.0  0.82    1  ...  12.25   \n",
       "397  397.0  325.0  107.0  3.0  3.0  3.5  9.11  1.0  0.84    1  ...  12.25   \n",
       "398  398.0  330.0  116.0  4.0  5.0  4.5  9.45  1.0  0.91    1  ...  20.25   \n",
       "399  399.0  312.0  103.0  3.0  3.5  4.0  8.78  0.0  0.67    1  ...  16.00   \n",
       "400  400.0  333.0  117.0  4.0  5.0  4.0  9.66  1.0  0.95    1  ...  16.00   \n",
       "\n",
       "          14   15          16         17    18       19      20          21  \\\n",
       "1    93.1225  1.0  38272753.0  1643032.0  64.0   91.125  91.125  898.632125   \n",
       "2    78.6769  1.0  34012224.0  1225043.0  64.0   64.000  91.125  697.864103   \n",
       "3    64.0000  1.0  31554496.0  1124864.0  27.0   27.000  42.875  512.000000   \n",
       "4    75.1689  1.0  33386248.0  1331000.0  27.0   42.875  15.625  651.714363   \n",
       "5    67.4041  0.0  30959144.0  1092727.0   8.0    8.000  27.000  553.387661   \n",
       "..       ...  ...         ...        ...   ...      ...     ...         ...   \n",
       "396  81.7216  1.0  34012224.0  1331000.0  27.0   42.875  42.875  738.763264   \n",
       "397  82.9921  1.0  34328125.0  1225043.0  27.0   27.000  42.875  756.058031   \n",
       "398  89.3025  1.0  35937000.0  1560896.0  64.0  125.000  91.125  843.908625   \n",
       "399  77.0884  0.0  30371328.0  1092727.0  27.0   42.875  64.000  676.836152   \n",
       "400  93.3156  1.0  36926037.0  1601613.0  64.0  125.000  64.000  901.428696   \n",
       "\n",
       "      22  \n",
       "1    1.0  \n",
       "2    1.0  \n",
       "3    1.0  \n",
       "4    1.0  \n",
       "5    0.0  \n",
       "..   ...  \n",
       "396  1.0  \n",
       "397  1.0  \n",
       "398  1.0  \n",
       "399  0.0  \n",
       "400  1.0  \n",
       "\n",
       "[400 rows x 24 columns]"
      ]
     },
     "execution_count": 187,
     "metadata": {},
     "output_type": "execute_result"
    }
   ],
   "source": [
    "data[9] = data[1] ** 2\n",
    "data[10] = data[2] ** 2\n",
    "data[11] = data[3] ** 2\n",
    "data[12] = data[4] ** 2\n",
    "data[13] = data[5] ** 2\n",
    "data[14] = data[6] ** 2\n",
    "data[15] = data[7] ** 2\n",
    "data[16] = data[1] ** 3\n",
    "data[17] = data[2] ** 3\n",
    "data[18] = data[3] ** 3\n",
    "data[19] = data[4] ** 3\n",
    "data[20] = data[5] ** 3\n",
    "data[21] = data[6] ** 3\n",
    "data[22] = data[7] ** 3\n",
    "data"
   ]
  },
  {
   "cell_type": "code",
   "execution_count": 188,
   "id": "cheap-heater",
   "metadata": {},
   "outputs": [
    {
     "name": "stdout",
     "output_type": "stream",
     "text": [
      "(400, 1)\n",
      "(400, 22)\n"
     ]
    }
   ],
   "source": [
    "data = data.assign(v_1 = 1)\n",
    "y = data[[8]].to_numpy()\n",
    "X = data[['v_1',1,2,3,4,5,6,7,9,10,11,12,13,14,15,16,17,18,19,20,21,22]].to_numpy()\n",
    "print(y.shape)\n",
    "print(X.shape)"
   ]
  },
  {
   "cell_type": "code",
   "execution_count": 189,
   "id": "seasonal-shoulder",
   "metadata": {},
   "outputs": [
    {
     "name": "stdout",
     "output_type": "stream",
     "text": [
      "(240, 22)\n",
      "(80, 22)\n",
      "(80, 22)\n",
      "(240, 1)\n",
      "(80, 1)\n",
      "(80, 1)\n"
     ]
    }
   ],
   "source": [
    "X_train, X_test, y_train, y_test = sklearn.model_selection.train_test_split(X, y, test_size=0.2, random_state=1)\n",
    "X_train, X_val, y_train, y_val = sklearn.model_selection.train_test_split(X_train, y_train, test_size=0.25, random_state=1)\n",
    "print(X_train.shape)\n",
    "print(X_test.shape)\n",
    "print(X_val.shape)\n",
    "print(y_train.shape)\n",
    "print(y_test.shape)\n",
    "print(y_val.shape)"
   ]
  },
  {
   "cell_type": "code",
   "execution_count": 190,
   "id": "armed-western",
   "metadata": {},
   "outputs": [],
   "source": [
    "def linear_cost(X, y, theta): \n",
    "    h = X @ theta\n",
    "    return ((y-h)**2).sum() / (2 * len(X))\n",
    "\n",
    "def linear_cost_gradient(X, y, theta): \n",
    "    h = X @ theta\n",
    "    return (X.T @ (h-y))/ len(X)"
   ]
  },
  {
   "cell_type": "code",
   "execution_count": 191,
   "id": "demonstrated-flesh",
   "metadata": {},
   "outputs": [],
   "source": [
    "m, n = X_train.shape"
   ]
  },
  {
   "cell_type": "code",
   "execution_count": 192,
   "id": "equal-flush",
   "metadata": {},
   "outputs": [
    {
     "name": "stdout",
     "output_type": "stream",
     "text": [
      "(22, 1)\n"
     ]
    }
   ],
   "source": [
    "theta_0 = np.random.rand(n,1)\n",
    "print(theta_0.shape)"
   ]
  },
  {
   "cell_type": "code",
   "execution_count": 237,
   "id": "beginning-stockholm",
   "metadata": {},
   "outputs": [],
   "source": [
    "def gradient_descent(\n",
    "X,y,theta_0,linear_cost,linear_cost_gradient,\n",
    "    learning_rate = 0.0000000000000000001, threshold = 0.00000001, max_iter=10000):\n",
    "    thetas = theta_0\n",
    "    iteration = 0 \n",
    "    costs = []\n",
    "    \n",
    "    while np.linalg.norm(linear_cost_gradient(X,y,thetas)) > threshold and iteration < max_iter:\n",
    "        iteration += 1 \n",
    "        thetas = thetas - (learning_rate * linear_cost_gradient(X,y,thetas))\n",
    "        costs.append(linear_cost(X,y,thetas))\n",
    "        \n",
    "    return thetas, costs"
   ]
  },
  {
   "cell_type": "code",
   "execution_count": 238,
   "id": "challenging-simon",
   "metadata": {},
   "outputs": [],
   "source": [
    "thetas, costs = gradient_descent(X_train,y_train,theta_0,linear_cost,linear_cost_gradient)"
   ]
  },
  {
   "cell_type": "code",
   "execution_count": 239,
   "id": "synthetic-dispatch",
   "metadata": {},
   "outputs": [
    {
     "data": {
      "text/plain": [
       "[<matplotlib.lines.Line2D at 0x2c9b6f4e070>]"
      ]
     },
     "execution_count": 239,
     "metadata": {},
     "output_type": "execute_result"
    },
    {
     "data": {
      "image/png": "[encoded data removed]",
      "text/plain": [
       "<Figure size 432x288 with 1 Axes>"
      ]
     },
     "metadata": {
      "needs_background": "light"
     },
     "output_type": "display_data"
    }
   ],
   "source": [
    "plt.plot(costs)"
   ]
  },
  {
   "cell_type": "markdown",
   "id": "stuffed-species",
   "metadata": {},
   "source": [
    "### test"
   ]
  },
  {
   "cell_type": "code",
   "execution_count": 240,
   "id": "checked-swift",
   "metadata": {},
   "outputs": [],
   "source": [
    "thetas, costs = gradient_descent(X_test,y_test,theta_0,linear_cost,linear_cost_gradient)"
   ]
  },
  {
   "cell_type": "code",
   "execution_count": 241,
   "id": "ongoing-newsletter",
   "metadata": {},
   "outputs": [
    {
     "data": {
      "text/plain": [
       "[<matplotlib.lines.Line2D at 0x2c9b5bc3c70>]"
      ]
     },
     "execution_count": 241,
     "metadata": {},
     "output_type": "execute_result"
    },
    {
     "data": {
      "image/png": "[encoded data removed]",
      "text/plain": [
       "<Figure size 432x288 with 1 Axes>"
      ]
     },
     "metadata": {
      "needs_background": "light"
     },
     "output_type": "display_data"
    }
   ],
   "source": [
    "plt.plot(costs)"
   ]
  },
  {
   "cell_type": "markdown",
   "id": "mineral-equity",
   "metadata": {},
   "source": [
    "### validation"
   ]
  },
  {
   "cell_type": "code",
   "execution_count": 242,
   "id": "senior-faith",
   "metadata": {},
   "outputs": [],
   "source": [
    "thetas, costs = gradient_descent(X_val,y_val,theta_0,linear_cost,linear_cost_gradient)"
   ]
  },
  {
   "cell_type": "code",
   "execution_count": 243,
   "id": "familiar-accuracy",
   "metadata": {},
   "outputs": [
    {
     "data": {
      "text/plain": [
       "[<matplotlib.lines.Line2D at 0x2c9b6f59580>]"
      ]
     },
     "execution_count": 243,
     "metadata": {},
     "output_type": "execute_result"
    },
    {
     "data": {
      "image/png": "[encoded data removed]",
      "text/plain": [
       "<Figure size 432x288 with 1 Axes>"
      ]
     },
     "metadata": {
      "needs_background": "light"
     },
     "output_type": "display_data"
    }
   ],
   "source": [
    "plt.plot(costs)"
   ]
  },
  {
   "cell_type": "markdown",
   "id": "administrative-georgia",
   "metadata": {},
   "source": [
    "Como se observa en las gráficas, utilizando un polinomio grado 3 el modelo muestra un descenso más suavizado que en el grado 1, reflejando acercarse a la convergencia y en la parte final llegando a las 10,000 iteraciones casi parece alcanzar la convergencia.\n"
   ]
  },
  {
   "cell_type": "markdown",
   "id": "stupid-beast",
   "metadata": {},
   "source": [
    "# Conclusión"
   ]
  },
  {
   "cell_type": "markdown",
   "id": "pending-observer",
   "metadata": {},
   "source": [
    "Finalmente se decidió que el modelo con mejor desempeño es el modelo de polinomio grado 3, ya que es el que casi alcanza la convergencia dentro de las 10,000 iteraciones. Adicionalmente se decidio trabajar con el lambda predeterminado debido a que los modelos presentaron un rendimiento estable tanto con los datos de test como los de cross validation. "
   ]
  }
 ],
 "metadata": {
  "kernelspec": {
   "display_name": "Python 3",
   "language": "python",
   "name": "python3"
  },
  "language_info": {
   "codemirror_mode": {
    "name": "ipython",
    "version": 3
   },
   "file_extension": ".py",
   "mimetype": "text/x-python",
   "name": "python",
   "nbconvert_exporter": "python",
   "pygments_lexer": "ipython3",
   "version": "3.9.1"
  }
 },
 "nbformat": 4,
 "nbformat_minor": 5
}
